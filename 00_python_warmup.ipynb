{
 "cells": [
  {
   "cell_type": "markdown",
   "metadata": {},
   "source": [
    "# python warm-up \n",
    "\n",
    "The goal of this notebook is to provide a warm-up before the course.\n",
    "\n"
   ]
  },
  {
   "cell_type": "code",
   "execution_count": 5,
   "metadata": {},
   "outputs": [
    {
     "name": "stdout",
     "output_type": "stream",
     "text": [
      "[0, 1, 4, 9, 16, 25, 36, 49, 64, 81]\n"
     ]
    }
   ],
   "source": [
    "## the for loop is great to repeat an operation a given number of time\n",
    "\n",
    "X = []\n",
    "\n",
    "for i in range(10):\n",
    "    X.append( i**2 ) # squared\n",
    "\n",
    "print(X)"
   ]
  },
  {
   "cell_type": "code",
   "execution_count": 3,
   "metadata": {},
   "outputs": [
    {
     "name": "stdout",
     "output_type": "stream",
     "text": [
      "0\n",
      "1\n",
      "4\n",
      "9\n",
      "16\n",
      "25\n",
      "36\n",
      "49\n",
      "64\n",
      "81\n"
     ]
    }
   ],
   "source": [
    "for x in X:\n",
    "    print(x)"
   ]
  },
  {
   "cell_type": "code",
   "execution_count": 6,
   "metadata": {},
   "outputs": [
    {
     "name": "stdout",
     "output_type": "stream",
     "text": [
      "0\n",
      "[0, 1, 4]\n",
      "[9, 16, 25, 36, 49, 64, 81]\n",
      "81\n"
     ]
    }
   ],
   "source": [
    "# elements in a container are accessed using square brackets\n",
    "print(X[0])  # 1 element. remember that indexing starts at 0\n",
    "print(X[:3]) # elements from 0 (included), to 3 (excluded)\n",
    "print(X[3:]) # elements from 3 (included), to the end\n",
    "print(X[-1]) # reverse indexing : -1 is the last element of the list"
   ]
  },
  {
   "cell_type": "code",
   "execution_count": 7,
   "metadata": {},
   "outputs": [
    {
     "name": "stdout",
     "output_type": "stream",
     "text": [
      "[13, 2, 4, 9, 13, 9, 14, 5, 11, 11, 8, 11, 13, 7, 9, 19, 10, 20, 5, 3, 1]\n"
     ]
    }
   ],
   "source": [
    "## the while loop is a good alternative when your stopping condition is not a fixed number of iteration :\n",
    "\n",
    "from random import randint\n",
    "\n",
    "X = [ randint(1,20) ]\n",
    "while  X[-1] !=1:\n",
    "    X.append(randint(1,20))\n",
    "\n",
    "print( X )"
   ]
  },
  {
   "cell_type": "code",
   "execution_count": 8,
   "metadata": {},
   "outputs": [
    {
     "name": "stdout",
     "output_type": "stream",
     "text": [
      "13 is odd\n",
      "2 is even\n",
      "4 is even\n",
      "9 is odd\n",
      "13 is odd\n",
      "9 is odd\n",
      "14 is even\n",
      "5 is odd\n",
      "11 is odd\n",
      "11 is odd\n",
      "8 is even\n",
      "11 is odd\n",
      "13 is odd\n",
      "7 is odd\n",
      "9 is odd\n",
      "19 is odd\n",
      "10 is even\n",
      "20 is even\n",
      "5 is odd\n",
      "3 is odd\n",
      "1 is odd\n"
     ]
    }
   ],
   "source": [
    "# if / else structure to test a condition\n",
    "\n",
    "for x in X:\n",
    "    if x%2 == 1:\n",
    "        print(x,'is odd')\n",
    "    else:\n",
    "        print(x,'is even')"
   ]
  },
  {
   "cell_type": "code",
   "execution_count": null,
   "metadata": {},
   "outputs": [],
   "source": [
    "# list comprehension is a very fine way of compressing all this\n",
    "\n",
    "X = [ i**2 for i in range(10) ]\n",
    "\n",
    "Xeven = [ x for x in X if x%2 == 0 ]\n",
    "Xodd = [ x for x in X if x%2 == 1 ]\n",
    "\n",
    "\n",
    "print( 'X    ', X )\n",
    "print( 'Xeven', Xeven )\n",
    "print( 'Xodd ', Xodd )"
   ]
  },
  {
   "cell_type": "code",
   "execution_count": null,
   "metadata": {},
   "outputs": [],
   "source": [
    "# functions are bits of code that you can re-use\n",
    "\n",
    "def separateOddandEven( container ):\n",
    "    \"\"\" returns 2 lists : one with the odds elements and one with the even elements of the provided container \"\"\"\n",
    "    odds = []\n",
    "    evens = []\n",
    "    \n",
    "    for x in container:\n",
    "        if x%2 == 0 :\n",
    "            evens.append( x )\n",
    "        else:\n",
    "            odds.append( x )\n",
    "    return odds, evens"
   ]
  },
  {
   "cell_type": "code",
   "execution_count": null,
   "metadata": {},
   "outputs": [],
   "source": [
    "o , e = separateOddandEven( X )\n",
    "print(o,e)"
   ]
  },
  {
   "cell_type": "code",
   "execution_count": null,
   "metadata": {},
   "outputs": [],
   "source": [
    "o , e = separateOddandEven( [-1,3,2,37,8] )\n",
    "print(o,e)"
   ]
  },
  {
   "cell_type": "markdown",
   "metadata": {},
   "source": [
    "**micro-exercise :** write a function that takes a list as an argument and return its mean"
   ]
  },
  {
   "cell_type": "code",
   "execution_count": 14,
   "metadata": {},
   "outputs": [
    {
     "name": "stdout",
     "output_type": "stream",
     "text": [
      "[13, 2, 4, 9, 13, 9, 14, 5, 11, 11, 8, 11, 13, 7, 9, 19, 10, 20, 5, 3, 1]\n",
      "9.380952380952381\n"
     ]
    }
   ],
   "source": [
    "print(X)\n",
    "def mean_list(X):\n",
    "  mean = sum(X)/len(X)\n",
    "  return mean\n",
    "\n",
    "print(mean_list(X))"
   ]
  }
 ],
 "metadata": {
  "kernelspec": {
   "display_name": "Python 3 (ipykernel)",
   "language": "python",
   "name": "python3"
  },
  "language_info": {
   "codemirror_mode": {
    "name": "ipython",
    "version": 3
   },
   "file_extension": ".py",
   "mimetype": "text/x-python",
   "name": "python",
   "nbconvert_exporter": "python",
   "pygments_lexer": "ipython3",
   "version": "3.11.4"
  }
 },
 "nbformat": 4,
 "nbformat_minor": 2
}
